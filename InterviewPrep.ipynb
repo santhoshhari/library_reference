{
  "nbformat": 4,
  "nbformat_minor": 0,
  "metadata": {
    "colab": {
      "name": "InterviewPrep.ipynb",
      "version": "0.3.2",
      "provenance": [],
      "toc_visible": true
    },
    "kernelspec": {
      "name": "python3",
      "display_name": "Python 3"
    }
  },
  "cells": [
    {
      "cell_type": "markdown",
      "metadata": {
        "id": "view-in-github",
        "colab_type": "text"
      },
      "source": [
        "[View in Colaboratory](https://colab.research.google.com/github/santhoshhari/library_reference/blob/master/InterviewPrep.ipynb)"
      ]
    },
    {
      "metadata": {
        "id": "CJwrDKVLkNjF",
        "colab_type": "text"
      },
      "cell_type": "markdown",
      "source": [
        "# Machine Learning"
      ]
    },
    {
      "metadata": {
        "id": "E3NTEyKZmWKb",
        "colab_type": "text"
      },
      "cell_type": "markdown",
      "source": [
        "## Learning Algorithms"
      ]
    },
    {
      "metadata": {
        "id": "R_P1U4himLlE",
        "colab_type": "text"
      },
      "cell_type": "markdown",
      "source": [
        "**1. What is the difference between supervised and unsupervised learning**\n",
        "\n",
        "**Supervised** Learning with labeled data where the objective is to predict the labels as accurately as possible. Can be regression or classificaiton depending on whether the label is continuous (Infinite values) or discrete (Finite classes).\n",
        "\n",
        "**Unsupervised**  Learning underlying structure without the help of labeled data. No notion of classification or regression, depends on the metric for learning."
      ]
    },
    {
      "metadata": {
        "id": "y9VF-6KCntEj",
        "colab_type": "text"
      },
      "cell_type": "markdown",
      "source": [
        "**2. How is KNN different from k-means clustering?**\n",
        "\n",
        "**KNN** is a supervised learning algorithm. The labels for the records with no labels are learned from its neighbouring points. Here, the neighbours are defined by a chosen distance metric such as L2, cosine, etc.\n",
        "\n",
        "**K-Means** is an unsupervised learning algorithm which works on unlabeled data with an objective to identify clusters such that observations in a cluster are similar and observations between clusters are disimilar. Measure of similarity can be L2, cosine, etc."
      ]
    },
    {
      "metadata": {
        "id": "a5MqI5o3phV7",
        "colab_type": "text"
      },
      "cell_type": "markdown",
      "source": [
        "## Metrics\n",
        "\n"
      ]
    },
    {
      "metadata": {
        "id": "ErE7Cjdlpjjq",
        "colab_type": "text"
      },
      "cell_type": "markdown",
      "source": [
        "**1. What is an ROC curve?**\n",
        "\n",
        "ROC curve (aka area under roc curve) is a graphical representation of the variation of true positive rate (TP/TP+FN aka sensitivity aka recall) and false positive rate (FP/FP+TN aka false alarm rate aka fall-out) as the discrimination threshold (probability cut-off) is varied. Not to be confused with AUC, which can mean area under any curve. Depending upon the business context, we can decide a True positive rate or False positive rate and then use that knowledge to define a threshold using the curve above.\n",
        "\n",
        "**ROC is independent of threshold**\n",
        "\n",
        "![alt text](https://upload.wikimedia.org/wikipedia/commons/6/6b/Roccurves.png?1528717740156)\n",
        "\n"
      ]
    },
    {
      "metadata": {
        "id": "tJkC6qLcr2ry",
        "colab_type": "text"
      },
      "cell_type": "markdown",
      "source": [
        "**2. Define Precision and Recall.**\n",
        "\n",
        "**Precision**  aka positive predictive value is the proportion of actual positive labels of all the positive predictions (TP/(TP+FP)).\n",
        "\n",
        "This is also the posterior probability of bayes theorm\n",
        "\n",
        "**Recall** aka true positive rate is the proportion of actual positive labels of all the positive labels in the data (TP/(TP+FN)).\n",
        "\n",
        "When would you prefere one over the other?\n",
        "If false negatives are more costly, maximize recall (detecting cancer) else if false positives are more costly, maximize precision (prostate cancer for elderly men, high cost of treatment not very risky disease, Identifying marketing leads).\n",
        "\n",
        "Usage: To evaluate a test to detect cancer patients. We don't want to not detect an actual cancer patient (FN). Hence we use recall.\n",
        "\n",
        "**Note:** Neither of precision or recall considers true negatives.\n",
        "\n",
        "$F_{\\beta}$  attaches  ${\\beta}$  times as much importance to recall as precision"
      ]
    },
    {
      "metadata": {
        "id": "xIVYizohmkTn",
        "colab_type": "text"
      },
      "cell_type": "markdown",
      "source": [
        "## Model Evaluation"
      ]
    },
    {
      "metadata": {
        "id": "PzVcWH7mlDOG",
        "colab_type": "text"
      },
      "cell_type": "markdown",
      "source": [
        "**1. What is bias-variance trade off? **\n",
        "\n",
        "**Bias** is error due to erroneous or overly simplistic assumptions in the learning algorithm. Leads to underfitting.\n",
        "\n",
        "**Variance** is error due to too much complexity in the learing algorithm\n",
        "\n",
        "**Trade off** Error of a learning algorithm can be decomposed into bias, variance and an irreducible term (due to noise). While one decreases, the other increases.\n",
        "\n",
        "Increase in bias -> Decrease in predictive power <br>\n",
        "Increase in variance -> Decrease in generalizability\n"
      ]
    },
    {
      "metadata": {
        "id": "pWVy63hxkQdI",
        "colab_type": "text"
      },
      "cell_type": "markdown",
      "source": [
        "# Statistics"
      ]
    },
    {
      "metadata": {
        "id": "EbQRErr4kT_7",
        "colab_type": "text"
      },
      "cell_type": "markdown",
      "source": [
        "# Programming"
      ]
    },
    {
      "metadata": {
        "id": "-dH3z4k0kX-C",
        "colab_type": "text"
      },
      "cell_type": "markdown",
      "source": [
        "# Miscellaneous"
      ]
    },
    {
      "metadata": {
        "id": "A_8NBD-UnsOv",
        "colab_type": "text"
      },
      "cell_type": "markdown",
      "source": [
        ""
      ]
    }
  ]
}