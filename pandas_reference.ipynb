{
 "cells": [
  {
   "cell_type": "markdown",
   "metadata": {},
   "source": [
    "## Data I/O:"
   ]
  },
  {
   "cell_type": "markdown",
   "metadata": {},
   "source": [
    "### Read/Write from Files:"
   ]
  },
  {
   "cell_type": "markdown",
   "metadata": {},
   "source": [
    "**General syntactical guideline:**\n",
    "- **Read:** pd.read_format\n",
    "- **Write:** df.to_format\n",
    "\n",
    "**Raw Files**\n",
    "\n",
    "- pd.read_csv()\n",
    "    - Required Argument - File name including path\n",
    "    - Optional Arguments\n",
    "        - **sep or delimeter - column delimiter**\n",
    "        - **dtype - dict of column to type**\n",
    "        - **low_memory - boolean (results in lower memory use while parsing)**\n",
    "        - names - list of column names\n",
    "        - index_col - Columns to use as row labels (column number or sequence)\n",
    "        - nrows - number of lines to read (incase of large files)\n",
    "        - na_values - additional strings to identify NAs (can be dict column to na string)\n",
    "        - na_filter - boolean (detect missing values)\n",
    "        - parse_dates - boolean or list of columns \n",
    "        - skiprows - rows to skip, can be a lambda function as well\n",
    "        - skipfooter - number of rows to skip at the end\n",
    "        - prefix - prefix to add to column numbers when no header available\n",
    "        - decimal - character to use as decimal seperator\n",
    "        - thousands - thousands seperator (default None)\n",
    "        - compression - 'infer' file compression or file compression type specifier\n",
    "        \n",
    "    - **pd.read_table()** is same as read_csv with tab as default delimiter \n",
    "    \n",
    "\n",
    "- pd.read_excel()\n",
    "    - Requird Argument - File name including path\n",
    "    - Important Optional Argument\n",
    "        - **sheet_name - integer of string or list of integers/strings with name of sheets to import**\n",
    "\n",
    "\n",
    "**Binary Formats**\n",
    "\n",
    "- pd.read_feather()\n",
    "    - Most efficient way of reading and writing columnar data\n",
    "    - Required Argument - File path\n",
    "    - Optional Argument - nthreads (# of CPUs to use while reading)\n",
    "\n",
    "\n",
    "- pd.read_pickle()\n",
    "    - Required Argument - File path\n",
    "    - Optional Argument - compression\n",
    "    \n",
    "\n",
    "- pd.read_parquet()\n",
    "    - Required Argument - File path\n",
    "    - Aside - Parquet format lacks built in support for categorical data. Optimized for IO constrained scan-oriented use cases.\n",
    "\n",
    "\n",
    "**SQL**\n",
    "- pd.read_sql()\n",
    "    - Required Arguments - Query and connection object\n",
    "    "
   ]
  },
  {
   "cell_type": "markdown",
   "metadata": {},
   "source": [
    "### Other Parsable Formats:"
   ]
  },
  {
   "cell_type": "markdown",
   "metadata": {},
   "source": [
    "- JSON (read_json, to_json)\n",
    "- HTML (read_html, to_html)\n",
    "- Clipboard (read_clipboard, to_clipboard)\n",
    "- HDF5 (hierarchical data, read_hdf, to_hdf)\n",
    "- MessagePack (read_msgpack, to_msgpack)\n",
    "- stata (read_stata, to_stata)\n",
    "- SAS (read_sas, write not available)\n",
    "- Google Big Query (read_gbq, to_gbq)\n",
    "\n",
    "Detailed Documentation: https://pandas.pydata.org/pandas-docs/stable/io.html\n",
    "\n",
    "Performance comparison of I/O on various formats: https://pandas.pydata.org/pandas-docs/stable/io.html#io-perf"
   ]
  },
  {
   "cell_type": "code",
   "execution_count": 2,
   "metadata": {
    "ExecuteTime": {
     "end_time": "2018-04-11T01:45:03.642001Z",
     "start_time": "2018-04-11T01:45:02.847567Z"
    }
   },
   "outputs": [],
   "source": [
    "import pandas as pd"
   ]
  },
  {
   "cell_type": "markdown",
   "metadata": {},
   "source": [
    "## Type Casting:"
   ]
  },
  {
   "cell_type": "markdown",
   "metadata": {},
   "source": [
    "## Data Access:"
   ]
  },
  {
   "cell_type": "markdown",
   "metadata": {},
   "source": [
    "## Data Filtering:"
   ]
  },
  {
   "cell_type": "markdown",
   "metadata": {},
   "source": [
    "## Data Manipulation:"
   ]
  },
  {
   "cell_type": "markdown",
   "metadata": {},
   "source": [
    "## Aggregate Functions:"
   ]
  },
  {
   "cell_type": "markdown",
   "metadata": {},
   "source": [
    "## Concatenation and Joins:"
   ]
  },
  {
   "cell_type": "markdown",
   "metadata": {},
   "source": [
    "## Indexing:"
   ]
  },
  {
   "cell_type": "code",
   "execution_count": null,
   "metadata": {},
   "outputs": [],
   "source": []
  }
 ],
 "metadata": {
  "kernelspec": {
   "display_name": "Python [conda env:py36]",
   "language": "python",
   "name": "conda-env-py36-py"
  },
  "language_info": {
   "codemirror_mode": {
    "name": "ipython",
    "version": 3
   },
   "file_extension": ".py",
   "mimetype": "text/x-python",
   "name": "python",
   "nbconvert_exporter": "python",
   "pygments_lexer": "ipython3",
   "version": "3.6.4"
  },
  "toc": {
   "nav_menu": {},
   "number_sections": true,
   "sideBar": true,
   "skip_h1_title": false,
   "toc_cell": false,
   "toc_position": {},
   "toc_section_display": "block",
   "toc_window_display": false
  },
  "varInspector": {
   "cols": {
    "lenName": 16,
    "lenType": 16,
    "lenVar": 40
   },
   "kernels_config": {
    "python": {
     "delete_cmd_postfix": "",
     "delete_cmd_prefix": "del ",
     "library": "var_list.py",
     "varRefreshCmd": "print(var_dic_list())"
    },
    "r": {
     "delete_cmd_postfix": ") ",
     "delete_cmd_prefix": "rm(",
     "library": "var_list.r",
     "varRefreshCmd": "cat(var_dic_list()) "
    }
   },
   "types_to_exclude": [
    "module",
    "function",
    "builtin_function_or_method",
    "instance",
    "_Feature"
   ],
   "window_display": false
  }
 },
 "nbformat": 4,
 "nbformat_minor": 2
}
